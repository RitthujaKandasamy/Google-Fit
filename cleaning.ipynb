{
 "cells": [
  {
   "cell_type": "code",
   "execution_count": 1,
   "metadata": {},
   "outputs": [
    {
     "name": "stderr",
     "output_type": "stream",
     "text": [
      "c:\\Users\\andre\\anaconda3\\envs\\ML\\lib\\site-packages\\xgboost\\compat.py:36: FutureWarning: pandas.Int64Index is deprecated and will be removed from pandas in a future version. Use pandas.Index with the appropriate dtype instead.\n",
      "  from pandas import MultiIndex, Int64Index\n"
     ]
    }
   ],
   "source": [
    "# Dependencies\n",
    "from sklearn.utils._testing import ignore_warnings\n",
    "from sklearn.exceptions import ConvergenceWarning\n",
    "from tqdm import tqdm\n",
    "\n",
    "import matplotlib.pyplot as plt\n",
    "import pandas as pd\n",
    "import numpy as np\n",
    "import seaborn as sns\n",
    "import time\n",
    "\n",
    "from sklearn.pipeline import Pipeline\n",
    "from sklearn.experimental import enable_iterative_imputer\n",
    "from sklearn.impute import IterativeImputer, KNNImputer, SimpleImputer\n",
    "from sklearn.preprocessing import StandardScaler, LabelBinarizer, PolynomialFeatures\n",
    "\n",
    "\n",
    "from sklearn.metrics import accuracy_score, ConfusionMatrixDisplay, balanced_accuracy_score\n",
    "from sklearn.model_selection import cross_val_score, GroupKFold\n",
    "\n",
    "\n",
    "\n",
    "from sklearn.ensemble import RandomForestClassifier, GradientBoostingClassifier, ExtraTreesClassifier\n",
    "from sklearn.svm import SVC\n",
    "from sklearn.neural_network import MLPClassifier\n",
    "from sklearn.linear_model import SGDClassifier\n",
    "from sklearn.tree import DecisionTreeClassifier\n",
    "from xgboost import XGBClassifier\n",
    "from sklearn.linear_model import LogisticRegression\n"
   ]
  },
  {
   "cell_type": "code",
   "execution_count": 13,
   "metadata": {},
   "outputs": [],
   "source": [
    "# Select columns\n",
    "def select_columns(dataset, columns_to_keep):\n",
    "    \"\"\"Filters columns of `dataset` to keep only those specified by the `columns_to_keep` paramater\n",
    "\n",
    "    Args:\n",
    "        dataset (Pandas DataFrame): Dataset to filter\n",
    "        columns_to_keep ( regex expression, str): columns names to keep\n",
    "\n",
    "    Returns:\n",
    "        Pandas Dataframe: Dataset with selected column(s)\n",
    "    \"\"\"\n",
    "    column_filter = dataset.columns.str.replace(\n",
    "        'android.sensor.|mean|std|min|max|#', '', regex=True).str.fullmatch(columns_to_keep)\n",
    "\n",
    "    return dataset.loc[:, column_filter]\n",
    "\n",
    "\n",
    "# drop column(s) based on missing value percentage\n",
    "def drop_col_percent_na(dataset, threshold):\n",
    "    \"\"\"Drop columns missing value greater than `threshold`\n",
    "\n",
    "    Args:\n",
    "        dataset (Pandas Dataframe): Dataframe from which to drop columns\n",
    "        threshold (float/int): Percentage of NaN beyong which a column should be dropped (from 1 to 100)\n",
    "\n",
    "    Returns:\n",
    "        Pandas Dataframe: Dataset with dropped column(s)\n",
    "    \"\"\"\n",
    "    to_drop = (dataset.isnull().sum()/dataset.shape[0]*100) > threshold\n",
    "\n",
    "    return dataset.loc[:, ~to_drop]\n",
    "\n",
    "\n",
    "# Split train test sets\n",
    "def split_train_test(data, upper_boundary=1, lower_boundary=3, nb_users_test=3):\n",
    "    \"\"\"Split `data` into train and test sets based on users. Users with highest number of\n",
    "    records as well as very few numbers of records are excluded from being choosen for the test set.\n",
    "\n",
    "    Args:\n",
    "        data (Pandas DataFrame): Dataset to split\n",
    "        upper_boundary (int, optional): Controls k-number of users with high number of records to exclude. Defaults to 1.\n",
    "        lower_boundary (int, optional): Controls k-number of users with low number of records to exclude. Defaults to 3.\n",
    "        nb_users_test (int, optional): Number of users to include in the test set. Defaults to 3.\n",
    "\n",
    "    Returns:\n",
    "        Tuple(Pandas DataFrame, Pandas DataFrame): Both train and test sets\n",
    "    \"\"\"\n",
    "    np.random.seed(0)\n",
    "\n",
    "    # number of records per user (sorted from highest to lowest)\n",
    "    user_dist = data.user.value_counts()\n",
    "\n",
    "    # array of users from which to choose the ones going into test set\n",
    "    to_choose_from = user_dist[upper_boundary: len(\n",
    "        user_dist) - lower_boundary].index\n",
    "\n",
    "    # users in test set\n",
    "    test_users = np.random.choice(to_choose_from, nb_users_test, replace=False)\n",
    "\n",
    "    # splitting into train and test sets\n",
    "    train = pd.DataFrame()\n",
    "    test = pd.DataFrame()\n",
    "    for _, row in data.iterrows():\n",
    "        if row[\"user\"] in test_users:\n",
    "            test = pd.concat([test, row], axis=1)\n",
    "\n",
    "        else:\n",
    "            train = pd.concat([train, row], axis=1)\n",
    "\n",
    "    return train.T, test.T\n",
    "\n",
    "\n",
    "# Preprocessing + model pipeline\n",
    "def pipelines(models):\n",
    "    \"\"\"Create pipelines made up preprocessors(Imputer, StandardScaler) and models\n",
    "\n",
    "    Args:\n",
    "        models (dict): A dictionary of model's name as key and sklearn corresponding algorithm as value\n",
    "\n",
    "    Returns:\n",
    "        dict: A dictionary of model's name as key and pipeline (preprocessing + model) as value\n",
    "    \"\"\"\n",
    "\n",
    "    # Preprocessors\n",
    "    # imputer = IterativeImputer(random_state=0, max_iter=30)\n",
    "    imputer = KNNImputer()\n",
    "    # imputer = SimpleImputer(strategy='median')\n",
    "    scaler = StandardScaler()\n",
    "\n",
    "    # Pipelines of preprocessor(s) and models\n",
    "    pipes = {name: Pipeline([\n",
    "        ('imputer', imputer),\n",
    "        ('scaler', scaler),\n",
    "        ('model', model)\n",
    "    ]) for name, model in models.items()}\n",
    "\n",
    "    return pipes\n",
    "\n",
    "\n",
    "# Model performance\n",
    "@ignore_warnings(category=ConvergenceWarning)\n",
    "def perfomance(pipes, X_train, y_train, X_test, y_test):\n",
    "    \"\"\"Compute mean and std of cross validation scores, accuracy on test set\n",
    "       as well as training and predicting time\n",
    "\n",
    "    Args: pipes(dict); as defined in `pipelines` function.\n",
    "          X_train, y_train; training sets\n",
    "          X_test, y_test; test sets\n",
    "\n",
    "    Returns:\n",
    "        Pandas Dataframe: Dataframe of computed performance metrics sorted by accuracy on test set\n",
    "    \"\"\"\n",
    "    results = pd.DataFrame()\n",
    "\n",
    "    for i in tqdm(range(len(pipes))):\n",
    "\n",
    "        name = list(pipes.keys())[i]\n",
    "        model = list(pipes.values())[i]\n",
    "\n",
    "        # training time\n",
    "        t0 = time.time()\n",
    "        model.fit(X_train, y_train)\n",
    "        train_time = time.time() - t0\n",
    "\n",
    "        # predicting time\n",
    "        t0 = time.time()\n",
    "        preds = model.predict(X_test)\n",
    "        pred_time = time.time() - t0\n",
    "\n",
    "        # cross validation\n",
    "        # scores = cross_val_score(model, X_train, y_train)\n",
    "\n",
    "        # append to results\n",
    "        results = pd.concat([results, pd.DataFrame({'name': [name],\n",
    "                                                    # 'mean_score': [scores.mean()],\n",
    "                                                    # 'std_score':[scores.std()],\n",
    "                                                    'test_accuracy': [accuracy_score(y_test, preds)],\n",
    "                                                    'balanced_accuracy':[balanced_accuracy_score(y_test, preds)],\n",
    "                                                    'training_time': [train_time],\n",
    "                                                    'predicting_time': [pred_time]})\n",
    "                             ])\n",
    "\n",
    "    return results.sort_values(by='test_accuracy', ascending=False)\n"
   ]
  },
  {
   "cell_type": "markdown",
   "metadata": {},
   "source": [
    "# Load Data"
   ]
  },
  {
   "cell_type": "code",
   "execution_count": 14,
   "metadata": {},
   "outputs": [],
   "source": [
    "# Load data\n",
    "data = pd.read_csv('data/dataset_5secondWindow.csv')\n",
    "\n",
    "df = data.copy()\n"
   ]
  },
  {
   "cell_type": "markdown",
   "metadata": {},
   "source": [
    "# Explore"
   ]
  },
  {
   "cell_type": "code",
   "execution_count": 26,
   "metadata": {},
   "outputs": [
    {
     "name": "stdout",
     "output_type": "stream",
     "text": [
      "   android.sensor.accelerometer#mean  android.sensor.accelerometer#min  \\\n",
      "0                           9.811476                          9.758895   \n",
      "1                           9.939207                          7.707437   \n",
      "2                           9.827178                          9.804817   \n",
      "\n",
      "   android.sensor.accelerometer#max  android.sensor.accelerometer#std  \\\n",
      "0                          9.849411                          0.014626   \n",
      "1                         17.146631                          1.775944   \n",
      "2                          9.849262                          0.011199   \n",
      "\n",
      "   android.sensor.game_rotation_vector#mean  \\\n",
      "0                                  0.029340   \n",
      "1                                  0.999925   \n",
      "2                                  0.665215   \n",
      "\n",
      "   android.sensor.game_rotation_vector#min  \\\n",
      "0                                 0.029014   \n",
      "1                                 0.999903   \n",
      "2                                 0.665213   \n",
      "\n",
      "   android.sensor.game_rotation_vector#max  \\\n",
      "0                                 0.029526   \n",
      "1                                 0.999946   \n",
      "2                                 0.665218   \n",
      "\n",
      "   android.sensor.game_rotation_vector#std  android.sensor.gyroscope#mean  \\\n",
      "0                                 0.000119                       0.001651   \n",
      "1                                 0.000030                       0.036326   \n",
      "2                                 0.000004                       0.001525   \n",
      "\n",
      "   android.sensor.gyroscope#min  ...  android.sensor.rotation_vector#std  \\\n",
      "0                      0.000000  ...                            0.002109   \n",
      "1                      0.011669  ...                            0.000026   \n",
      "2                      0.000000  ...                            0.011312   \n",
      "\n",
      "   sound#mean  sound#min  sound#max  sound#std  speed#mean  speed#min  \\\n",
      "0         NaN        NaN        NaN        NaN    0.000000   0.000000   \n",
      "1    89.20021  89.065143  89.335277   0.191013   16.539349  16.539349   \n",
      "2         NaN        NaN        NaN        NaN    0.000000   0.000000   \n",
      "\n",
      "   speed#max  target  user  \n",
      "0   0.000000   Still   U12  \n",
      "1  16.539349     Car   U12  \n",
      "2   0.000000   Still   U12  \n",
      "\n",
      "[3 rows x 37 columns]\n",
      "   android.sensor.accelerometer#mean  android.sensor.accelerometer#min  \\\n",
      "0                           9.811476                          9.758895   \n",
      "1                           9.939207                          7.707437   \n",
      "2                           9.827178                          9.804817   \n",
      "\n",
      "   android.sensor.accelerometer#max  android.sensor.accelerometer#std  \\\n",
      "0                          9.849411                          0.014626   \n",
      "1                         17.146631                          1.775944   \n",
      "2                          9.849262                          0.011199   \n",
      "\n",
      "   android.sensor.game_rotation_vector#mean  \\\n",
      "0                                  0.029340   \n",
      "1                                  0.999925   \n",
      "2                                  0.665215   \n",
      "\n",
      "   android.sensor.game_rotation_vector#min  \\\n",
      "0                                 0.029014   \n",
      "1                                 0.999903   \n",
      "2                                 0.665213   \n",
      "\n",
      "   android.sensor.game_rotation_vector#max  \\\n",
      "0                                 0.029526   \n",
      "1                                 0.999946   \n",
      "2                                 0.665218   \n",
      "\n",
      "   android.sensor.game_rotation_vector#std  android.sensor.gyroscope#mean  \\\n",
      "0                                 0.000119                       0.001651   \n",
      "1                                 0.000030                       0.036326   \n",
      "2                                 0.000004                       0.001525   \n",
      "\n",
      "   android.sensor.gyroscope#min  ...  android.sensor.rotation_vector#std  \\\n",
      "0                      0.000000  ...                            0.002109   \n",
      "1                      0.011669  ...                            0.000026   \n",
      "2                      0.000000  ...                            0.011312   \n",
      "\n",
      "   sound#mean  sound#min  sound#max  sound#std  speed#mean  speed#min  \\\n",
      "0         NaN        NaN        NaN        NaN    0.000000   0.000000   \n",
      "1    89.20021  89.065143  89.335277   0.191013   16.539349  16.539349   \n",
      "2         NaN        NaN        NaN        NaN    0.000000   0.000000   \n",
      "\n",
      "   speed#max  target  user  \n",
      "0   0.000000   Still   U12  \n",
      "1  16.539349     Car   U12  \n",
      "2   0.000000   Still   U12  \n",
      "\n",
      "[3 rows x 37 columns]\n"
     ]
    }
   ],
   "source": [
    "def feature_enhancement(df):\n",
    "    \n",
    "    df_1 = df  # make a DataFrame copy\n",
    "\n",
    "    for speed in df['speed#mean'].unique():\n",
    "        speed_data = df_1[df_1['speed#mean'] == speed]\n",
    "        linear_acceleration_mean = speed_data['android.sensor.linear_acceleration#mean'].mean()\n",
    "        rotation_vector_mean = speed_data['android.sensor.rotation_vector#mean'].mean()\n",
    "        \n",
    "        # t1_mean = seasonal_data['t1'].mean()\n",
    "        # t2_mean = seasonal_data['t2'].mean()\n",
    "\n",
    "        for i in df_1[df_1['speed#mean'] == speed].index:\n",
    "            if np.random.randint(2) == 1:       # Return random integers from low (inclusive) to high (exclusive).\n",
    "                df_1['android.sensor.linear_acceleration#mean'].values[i] += linear_acceleration_mean/10\n",
    "            else:\n",
    "                df_1['android.sensor.linear_acceleration#mean'].values[i] -= linear_acceleration_mean/10\n",
    "\n",
    "            if np.random.randint(2) == 1:       # Return random integers from low (inclusive) to high (exclusive).\n",
    "                df_1['android.sensor.rotation_vector#mean'].values[i] += rotation_vector_mean/10\n",
    "            else:\n",
    "                df_1['android.sensor.rotation_vector#mean'].values[i] -= rotation_vector_mean/10\n",
    "\n",
    "            # if np.random.randint(2) == 1:\n",
    "            #     df_1['wind_speed'].values[i] += wind_speed_mean/10\n",
    "            # else:\n",
    "            #     df_1['wind_speed'].values[i] -= wind_speed_mean/10\n",
    "\n",
    "            # if np.random.randint(2) == 1:\n",
    "            #     df_1['t1'].values[i] += t1_mean/10\n",
    "            # else:\n",
    "            #     df_1['t1'].values[i] -= t1_mean/10\n",
    "\n",
    "            # if np.random.randint(2) == 1:\n",
    "            #     df_1['t2'].values[i] += t2_mean/10\n",
    "            # else:\n",
    "            #     df_1['t2'].values[i] -= t2_mean/10\n",
    "\n",
    "    return df_1\n",
    "\n",
    "\n",
    "print(df.head(3))\n",
    "gen = feature_enhancement(df)\n",
    "print(gen.head(3) )"
   ]
  },
  {
   "cell_type": "markdown",
   "metadata": {},
   "source": [
    "# Preprocessing"
   ]
  },
  {
   "cell_type": "code",
   "execution_count": 27,
   "metadata": {},
   "outputs": [],
   "source": [
    "# Select columns to use\n",
    "keep_columns = 'accelerometer|sound|orientation|linear_acceleration|speed|gyroscope|rotation_vector|game_rotation_vector|gyroscope_uncalibrated|target|user'\n",
    "df = select_columns(df, keep_columns)\n"
   ]
  },
  {
   "cell_type": "code",
   "execution_count": 28,
   "metadata": {},
   "outputs": [],
   "source": [
    "# Drop columns with high percentage of missing values\n",
    "df = drop_col_percent_na(df, 50)"
   ]
  },
  {
   "cell_type": "markdown",
   "metadata": {},
   "source": [
    "# Train Test split"
   ]
  },
  {
   "cell_type": "code",
   "execution_count": 29,
   "metadata": {},
   "outputs": [],
   "source": [
    "# Train split\n",
    "train, test = split_train_test(df)"
   ]
  },
  {
   "cell_type": "code",
   "execution_count": 30,
   "metadata": {},
   "outputs": [
    {
     "data": {
      "text/plain": [
       "Walking    1140\n",
       "Bus        1032\n",
       "Train       928\n",
       "Car         896\n",
       "Still       755\n",
       "Name: target, dtype: int64"
      ]
     },
     "execution_count": 30,
     "metadata": {},
     "output_type": "execute_result"
    }
   ],
   "source": [
    "train.target.value_counts()"
   ]
  },
  {
   "cell_type": "code",
   "execution_count": 31,
   "metadata": {},
   "outputs": [
    {
     "data": {
      "text/plain": [
       "Still      424\n",
       "Car        284\n",
       "Train      251\n",
       "Bus        146\n",
       "Walking     37\n",
       "Name: target, dtype: int64"
      ]
     },
     "execution_count": 31,
     "metadata": {},
     "output_type": "execute_result"
    }
   ],
   "source": [
    "test.target.value_counts()"
   ]
  },
  {
   "cell_type": "code",
   "execution_count": 32,
   "metadata": {},
   "outputs": [],
   "source": [
    "# Features target separation\n",
    "X_train, y_train = train.drop(columns=['target', 'user']), train['target']\n",
    "\n",
    "X_test, y_test = test.drop(columns=['target', 'user']), test['target']"
   ]
  },
  {
   "cell_type": "code",
   "execution_count": 33,
   "metadata": {},
   "outputs": [],
   "source": [
    "# Binarize target\n",
    "y_train = train['target'].apply(lambda x: 1 if x == 'Walking' else 0)\n",
    "y_test = test['target'].apply(lambda x: 1 if x == 'Walking' else 0)"
   ]
  },
  {
   "cell_type": "markdown",
   "metadata": {},
   "source": [
    "# Training"
   ]
  },
  {
   "cell_type": "code",
   "execution_count": 35,
   "metadata": {},
   "outputs": [
    {
     "name": "stderr",
     "output_type": "stream",
     "text": [
      "100%|██████████| 6/6 [01:43<00:00, 17.24s/it]"
     ]
    },
    {
     "name": "stdout",
     "output_type": "stream",
     "text": [
      "Performance: \n",
      "      name  test_accuracy  balanced_accuracy  training_time  predicting_time\n",
      "0  extraT       0.945709           0.893580       9.689283         2.077738\n",
      "0      rf       0.943082           0.879161      12.677304         2.203346\n",
      "0      gb       0.933450           0.887245      20.978834         2.100884\n",
      "0     mlp       0.921191           0.828666      32.132695         1.984146\n",
      "0     sgd       0.914186           0.851168       7.593569         2.027148\n",
      "0      dt       0.797723           0.751804       7.984505         1.967644\n"
     ]
    },
    {
     "name": "stderr",
     "output_type": "stream",
     "text": [
      "\n"
     ]
    }
   ],
   "source": [
    "# Pipelines (preprocessing + model)\n",
    "models = {'rf': RandomForestClassifier(random_state=0),\n",
    "          \"gb\": GradientBoostingClassifier(random_state=0),\n",
    "          'dt': DecisionTreeClassifier(),\n",
    "          'extraT': ExtraTreesClassifier(),\n",
    "        #   'xgb':XGBClassifier(),\n",
    "          # 'svm': SVC(), \n",
    "          'mlp': MLPClassifier(random_state=0, max_iter=1000),\n",
    "          'sgd': SGDClassifier(random_state=0)\n",
    "          }\n",
    "\n",
    "\n",
    "pipes = pipelines(models)\n",
    "\n",
    "\n",
    "# Performance\n",
    "\n",
    "results = perfomance(pipes, X_train, y_train, X_test, y_test)\n",
    "print('Performance: \\n', results)"
   ]
  },
  {
   "cell_type": "code",
   "execution_count": null,
   "metadata": {},
   "outputs": [],
   "source": [
    "# Performance\n",
    "\n",
    "'''100%|██████████| 7/7 [00:59<00:00,  8.54s/it]Performance: \n",
    "      name  test_accuracy  balanced_accuracy  training_time  predicting_time\n",
    "0  extraT       0.947461           0.907546       4.366999         1.008017\n",
    "0      rf       0.945709           0.893580       6.652926         1.075130\n",
    "0     mlp       0.935201           0.848967      17.913111         1.581082\n",
    "0      gb       0.928196           0.871469       9.378581         1.017145\n",
    "0     svm       0.915061           0.890803       4.290997         1.124035\n",
    "0      dt       0.900175           0.804745       4.121532         0.991985\n",
    "0     sgd       0.874781           0.817745       4.830139         1.435273'''\n",
    "\n",
    "\n",
    "''' 67%|██████▋   | 4/6 [00:53<00:24, 12.34s/it]Performance: \n",
    "      name  test_accuracy  balanced_accuracy  training_time  predicting_time\n",
    "0      rf       0.945709           0.693580      11.541250         2.053826\n",
    "0  extraT       0.944834           0.493127       8.054577         2.001302\n",
    "0     mlp       0.935201           0.748967      24.396078         1.897758\n",
    "0      gb       0.928196           0.771469      18.608749         1.879030\n",
    "0      dt       0.885289           0.349297       7.382676         1.878095\n",
    "0     sgd       0.874781           0.617745       6.782888         1.872854'''\n",
    "\n",
    "\n",
    "'''100%|██████████| 6/6 [02:37<00:00, 26.27s/it]Performance: \n",
    "      name  test_accuracy  balanced_accuracy  training_time  predicting_time\n",
    "0     sgd       0.436077           0.510478       7.333369         1.847857\n",
    "0      rf       0.408932           0.466094      11.030942         1.924400\n",
    "0  extraT       0.402802           0.465274       8.408334         2.063710\n",
    "0      gb       0.401051           0.434093      67.601697         1.856730\n",
    "0     mlp       0.394921           0.451630      44.612878         1.812992\n",
    "0      dt       0.325744           0.384753       7.186589         1.841259'''\n",
    "\n",
    "'''Performance: \n",
    "      name  test_accuracy  balanced_accuracy  training_time  predicting_time\n",
    "0      rf       0.943082           0.879161      11.130696         1.944735\n",
    "0  extraT       0.942207           0.891770       7.741236         1.920851\n",
    "0      gb       0.933450           0.887245      18.548395         1.909164\n",
    "0     mlp       0.921191           0.828666      27.557061         1.688993\n",
    "0     sgd       0.914186           0.851168       7.150637         2.096133\n",
    "0      dt       0.831874           0.808634       7.372568         1.844576'''\n"
   ]
  },
  {
   "cell_type": "code",
   "execution_count": 74,
   "metadata": {},
   "outputs": [],
   "source": [
    "model = ExtraTreesClassifier()\n",
    "# imputer = IterativeImputer()\n",
    "imputer = KNNImputer()\n",
    "# imputer = SimpleImputer(strategy='mean')\n",
    "scaler = StandardScaler()\n",
    "\n",
    "pipe = Pipeline([\n",
    "    ('imputer', imputer), \n",
    "    ('scaler', scaler), \n",
    "    ('model', model)])"
   ]
  },
  {
   "cell_type": "code",
   "execution_count": 75,
   "metadata": {},
   "outputs": [
    {
     "data": {
      "text/plain": [
       "0.9439579684763573"
      ]
     },
     "execution_count": 75,
     "metadata": {},
     "output_type": "execute_result"
    },
    {
     "data": {
      "text/plain": [
       "<Figure size 864x576 with 0 Axes>"
      ]
     },
     "metadata": {},
     "output_type": "display_data"
    },
    {
     "data": {
      "image/png": "[encoded data removed]",
      "text/plain": [
       "<Figure size 432x288 with 1 Axes>"
      ]
     },
     "metadata": {
      "needs_background": "light"
     },
     "output_type": "display_data"
    }
   ],
   "source": [
    "\n",
    "pipe.fit(X_train, y_train)\n",
    "preds = pipe.predict(X_test)\n",
    "plt.figure(figsize = (12, 8))\n",
    "ConfusionMatrixDisplay.from_predictions(y_test, preds, colorbar=False)\n",
    "accuracy_score(y_test, preds)"
   ]
  }
 ],
 "metadata": {
  "interpreter": {
   "hash": "35717f1c4f95342094abc4f6ac6148258ab8398bdcca50048c184145a1017736"
  },
  "kernelspec": {
   "display_name": "Python 3.9.12 ('ML')",
   "language": "python",
   "name": "python3"
  },
  "language_info": {
   "codemirror_mode": {
    "name": "ipython",
    "version": 3
   },
   "file_extension": ".py",
   "mimetype": "text/x-python",
   "name": "python",
   "nbconvert_exporter": "python",
   "pygments_lexer": "ipython3",
   "version": "3.9.12"
  },
  "orig_nbformat": 4
 },
 "nbformat": 4,
 "nbformat_minor": 2
}
